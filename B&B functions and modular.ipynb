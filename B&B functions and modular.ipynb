{
 "cells": [
  {
   "cell_type": "code",
   "execution_count": 4,
   "id": "bce57e19-e3d8-4f7a-a813-5ebbe76b8359",
   "metadata": {},
   "outputs": [],
   "source": [
    "\n",
    "def calculate_average_age(age_list):\n",
    "    if not age_list:\n",
    "        return 0 \n",
    "    return sum(age_list) / len(age_list)\n",
    "\n",
    "\n",
    "def find_youngest(age_list):\n",
    "    if not age_list:\n",
    "        return None\n",
    "    return min(age_list)\n",
    "\n",
    "\n",
    "def find_oldest(age_list):\n",
    "    if not age_list:\n",
    "        return None\n",
    "    return max(age_list)\n",
    "\n",
    "\n",
    "def count_above_age(age_list, threshold):\n",
    "    return len([age for age in age_list if age > threshold])\n"
   ]
  },
  {
   "cell_type": "code",
   "execution_count": 7,
   "id": "47034fa2-cc79-4524-8cb0-dede9bef39d3",
   "metadata": {},
   "outputs": [
    {
     "name": "stdout",
     "output_type": "stream",
     "text": [
      "Average Age: 22.571428571428573\n",
      "Youngest Age: 18\n",
      "Oldest Age: 30\n",
      "Number of people above 21: 4\n"
     ]
    }
   ],
   "source": [
    "\n",
    "group_ages = [18, 22, 25, 19, 30, 24, 20]\n",
    "\n",
    "\n",
    "average_age = calculate_average_age(group_ages)\n",
    "youngest = find_youngest(group_ages)\n",
    "oldest = find_oldest(group_ages)\n",
    "above_21_count = count_above_age(group_ages, 21)\n",
    "\n",
    "\n",
    "print(\"Average Age:\", average_age)\n",
    "print(\"Youngest Age:\", youngest)\n",
    "print(\"Oldest Age:\", oldest)\n",
    "print(\"Number of people above 21:\", above_21_count)\n"
   ]
  },
  {
   "cell_type": "code",
   "execution_count": null,
   "id": "ae387b5c-417e-44fa-b54a-63475745046c",
   "metadata": {},
   "outputs": [],
   "source": []
  }
 ],
 "metadata": {
  "kernelspec": {
   "display_name": "Python 3 (ipykernel)",
   "language": "python",
   "name": "python3"
  },
  "language_info": {
   "codemirror_mode": {
    "name": "ipython",
    "version": 3
   },
   "file_extension": ".py",
   "mimetype": "text/x-python",
   "name": "python",
   "nbconvert_exporter": "python",
   "pygments_lexer": "ipython3",
   "version": "3.13.3"
  }
 },
 "nbformat": 4,
 "nbformat_minor": 5
}
